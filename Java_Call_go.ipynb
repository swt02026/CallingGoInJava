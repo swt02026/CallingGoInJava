{
  "nbformat": 4,
  "nbformat_minor": 0,
  "metadata": {
    "colab": {
      "name": "Java_Call_go",
      "version": "0.3.2",
      "provenance": [],
      "collapsed_sections": [],
      "toc_visible": true,
      "include_colab_link": true
    },
    "kernelspec": {
      "name": "python3",
      "display_name": "Python 3"
    }
  },
  "cells": [
    {
      "cell_type": "markdown",
      "metadata": {
        "id": "view-in-github",
        "colab_type": "text"
      },
      "source": [
        "<a href=\"https://colab.research.google.com/github/swt02026/CallingGoInJava/blob/master/Java_Call_go.ipynb\" target=\"_parent\"><img src=\"https://colab.research.google.com/assets/colab-badge.svg\" alt=\"Open In Colab\"/></a>"
      ]
    },
    {
      "metadata": {
        "id": "Kv2zmtRFgg40",
        "colab_type": "text"
      },
      "cell_type": "markdown",
      "source": [
        "# Setup Environment"
      ]
    },
    {
      "metadata": {
        "id": "T0GlicFaQ0oo",
        "colab_type": "code",
        "colab": {}
      },
      "cell_type": "code",
      "source": [
        "!apt install golang-go libzmq3-dev file\n",
        "%env GOPATH=/root/go\n",
        "!go get -u github.com/gopherdata/gophernotes\n",
        "!cp ~/go/bin/gophernotes /usr/bin/\n",
        "!mkdir /usr/local/share/jupyter/kernels/gophernotes\n",
        "!cp ~/go/src/github.com/gopherdata/gophernotes/kernel/* \\\n",
        "       /usr/local/share/jupyter/kernels/gophernotes"
      ],
      "execution_count": 0,
      "outputs": []
    },
    {
      "metadata": {
        "id": "JWhJVxjsKYnK",
        "colab_type": "code",
        "colab": {}
      },
      "cell_type": "code",
      "source": [
        "%cd /content"
      ],
      "execution_count": 0,
      "outputs": []
    },
    {
      "metadata": {
        "id": "_VD-qBooIVGe",
        "colab_type": "code",
        "colab": {}
      },
      "cell_type": "code",
      "source": [
        "!git clone https://github.com/swt02026/CallingGoInJava.git go_java"
      ],
      "execution_count": 0,
      "outputs": []
    },
    {
      "metadata": {
        "id": "QYXVFGCvqbru",
        "colab_type": "code",
        "colab": {}
      },
      "cell_type": "code",
      "source": [
        "%cd go_java"
      ],
      "execution_count": 0,
      "outputs": []
    },
    {
      "metadata": {
        "id": "-Thflp9NGWNw",
        "colab_type": "code",
        "colab": {}
      },
      "cell_type": "code",
      "source": [
        "%env LD_LIBRARY_PATH=$LD_LIBRARY_PATH:."
      ],
      "execution_count": 0,
      "outputs": []
    },
    {
      "metadata": {
        "id": "c0lXr1AbZbCr",
        "colab_type": "code",
        "colab": {}
      },
      "cell_type": "code",
      "source": [
        "!wget https://github.com/oracle/graal/releases/download/vm-1.0.0-rc15/graalvm-ce-1.0.0-rc15-linux-amd64.tar.gz"
      ],
      "execution_count": 0,
      "outputs": []
    },
    {
      "metadata": {
        "id": "yc0onHXkZf5E",
        "colab_type": "code",
        "colab": {}
      },
      "cell_type": "code",
      "source": [
        "!tar -xvzf graalvm-ce-1.0.0-rc15-linux-amd64.tar.gz"
      ],
      "execution_count": 0,
      "outputs": []
    },
    {
      "metadata": {
        "id": "QK7j06j-3vT8",
        "colab_type": "code",
        "outputId": "cad5924f-6821-4b52-8af9-89aa304b9cdb",
        "colab": {
          "base_uri": "https://localhost:8080/",
          "height": 34
        }
      },
      "cell_type": "code",
      "source": [
        "%env GRAALVM=graalvm-ce-1.0.0-rc15"
      ],
      "execution_count": 8,
      "outputs": [
        {
          "output_type": "stream",
          "text": [
            "env: GRAALVM=graalvm-ce-1.0.0-rc15\n"
          ],
          "name": "stdout"
        }
      ]
    },
    {
      "metadata": {
        "id": "wmKcCYcv5ij7",
        "colab_type": "code",
        "colab": {}
      },
      "cell_type": "code",
      "source": [
        "!${GRAALVM}/bin/java -version"
      ],
      "execution_count": 0,
      "outputs": []
    },
    {
      "metadata": {
        "id": "2i4nuvTAgYMU",
        "colab_type": "text"
      },
      "cell_type": "markdown",
      "source": [
        "# JNI with go build"
      ]
    },
    {
      "metadata": {
        "id": "5aizY8U6AcIw",
        "colab_type": "code",
        "outputId": "f681b7cd-4c22-43d0-e723-14f802076645",
        "colab": {
          "base_uri": "https://localhost:8080/",
          "height": 221
        }
      },
      "cell_type": "code",
      "source": [
        "!cat HelloWorld.java;"
      ],
      "execution_count": 10,
      "outputs": [
        {
          "output_type": "stream",
          "text": [
            "class HelloWorld {\n",
            "    private native void heavyWork(int num);\n",
            "\n",
            "    public static void main(String[] args) {\n",
            "        final int num = Integer.valueOf(args[0]);\n",
            "        new HelloWorld().heavyWork(num);\n",
            "    }\n",
            "\n",
            "    static {\n",
            "        System.loadLibrary(\"HelloWorld\");\n",
            "    }\n",
            "}\n"
          ],
          "name": "stdout"
        }
      ]
    },
    {
      "metadata": {
        "id": "bBhrHyczLsWT",
        "colab_type": "code",
        "outputId": "8b61025e-3676-47ec-fcef-6a2f2846e72d",
        "colab": {
          "base_uri": "https://localhost:8080/",
          "height": 102
        }
      },
      "cell_type": "code",
      "source": [
        "!find / -name jni.h"
      ],
      "execution_count": 11,
      "outputs": [
        {
          "output_type": "stream",
          "text": [
            "find: ‘/proc/1272’: No such file or directory\n",
            "find: ‘/proc/1273’: No such file or directory\n",
            "/usr/include/x86_64-linux-gnu/libavcodec/jni.h\n",
            "/usr/lib/jvm/java-8-openjdk-amd64/include/jni.h\n",
            "/content/go_java/graalvm-ce-1.0.0-rc15/include/jni.h\n"
          ],
          "name": "stdout"
        }
      ]
    },
    {
      "metadata": {
        "id": "jtJug88WJP-i",
        "colab_type": "code",
        "outputId": "b2745c89-00eb-4f1c-a7de-c92f2063c908",
        "colab": {
          "base_uri": "https://localhost:8080/",
          "height": 289
        }
      },
      "cell_type": "code",
      "source": [
        "!${GRAALVM}/bin/javah -jni HelloWorld; ${GRAALVM}/bin/javac HelloWorld.java; ls -alrt;"
      ],
      "execution_count": 12,
      "outputs": [
        {
          "output_type": "stream",
          "text": [
            "total 335068\n",
            "-rw-r--r-- 1 root root 343000283 Apr  5 11:57 graalvm-ce-1.0.0-rc15-linux-amd64.tar.gz\n",
            "drwxr-xr-x 1 root root      4096 Apr 23 11:34 ..\n",
            "-rw-r--r-- 1 root root        17 Apr 23 11:34 README.md\n",
            "-rw-r--r-- 1 root root     45270 Apr 23 11:34 Java_Call_go.ipynb\n",
            "-rw-r--r-- 1 root root       270 Apr 23 11:34 HelloWorld.java\n",
            "-rw-r--r-- 1 root root       652 Apr 23 11:34 HelloWorldGraalVM.java\n",
            "-rw-r--r-- 1 root root       166 Apr 23 11:34 HelloWorld.go\n",
            "-rw-r--r-- 1 root root       259 Apr 23 11:34 HelloWorldCallGO.c\n",
            "-rw-r--r-- 1 root root       240 Apr 23 11:34 HelloWorld.c\n",
            "-rw-r--r-- 1 root root       357 Apr 23 11:34 Headers.java\n",
            "drwxr-xr-x 8 root root      4096 Apr 23 11:34 .git\n",
            "drwxr-xr-x 8 root root      4096 Apr 23 11:34 graalvm-ce-1.0.0-rc15\n",
            "-rw-r--r-- 1 root root       392 Apr 23 11:35 HelloWorld.h\n",
            "drwxr-xr-x 4 root root      4096 Apr 23 11:35 .\n",
            "-rw-r--r-- 1 root root       580 Apr 23 11:35 HelloWorld.class\n"
          ],
          "name": "stdout"
        }
      ]
    },
    {
      "metadata": {
        "id": "TW7TbTeXJyXP",
        "colab_type": "code",
        "outputId": "de33eaab-8993-4422-8604-207556f5a181",
        "colab": {
          "base_uri": "https://localhost:8080/",
          "height": 374
        }
      },
      "cell_type": "code",
      "source": [
        "!cat HelloWorld.h"
      ],
      "execution_count": 13,
      "outputs": [
        {
          "output_type": "stream",
          "text": [
            "/* DO NOT EDIT THIS FILE - it is machine generated */\n",
            "#include <jni.h>\n",
            "/* Header for class HelloWorld */\n",
            "\n",
            "#ifndef _Included_HelloWorld\n",
            "#define _Included_HelloWorld\n",
            "#ifdef __cplusplus\n",
            "extern \"C\" {\n",
            "#endif\n",
            "/*\n",
            " * Class:     HelloWorld\n",
            " * Method:    heavyWork\n",
            " * Signature: (I)V\n",
            " */\n",
            "JNIEXPORT void JNICALL Java_HelloWorld_heavyWork\n",
            "  (JNIEnv *, jobject, jint);\n",
            "\n",
            "#ifdef __cplusplus\n",
            "}\n",
            "#endif\n",
            "#endif\n"
          ],
          "name": "stdout"
        }
      ]
    },
    {
      "metadata": {
        "id": "ohqJH5wdOr13",
        "colab_type": "code",
        "outputId": "c5bd2fca-37fa-414f-b24e-e6e095835321",
        "colab": {
          "base_uri": "https://localhost:8080/",
          "height": 187
        }
      },
      "cell_type": "code",
      "source": [
        "! cat  HelloWorld.c"
      ],
      "execution_count": 14,
      "outputs": [
        {
          "output_type": "stream",
          "text": [
            "#include <jni.h>\n",
            "\n",
            "#include \"HelloWorld.h\"\n",
            "#include <stdio.h>\n",
            "\n",
            "JNIEXPORT void JNICALL Java_HelloWorld_heavyWork(JNIEnv *env, jobject obj,\n",
            "                                                 jint num) {\n",
            "\n",
            "  printf(\"heavy work in c %d\\n\", num);\n",
            "}\n"
          ],
          "name": "stdout"
        }
      ]
    },
    {
      "metadata": {
        "id": "2j_Jh2wKMA4h",
        "colab_type": "code",
        "outputId": "0ee9a689-71dc-4e0d-ded2-be1c1031d35a",
        "colab": {
          "base_uri": "https://localhost:8080/",
          "height": 306
        }
      },
      "cell_type": "code",
      "source": [
        "!gcc -I ${GRAALVM}/include/ -I ${GRAALVM}/include/linux -fpie -shared -o libHelloWorld.so HelloWorld.c;ls -alrt"
      ],
      "execution_count": 15,
      "outputs": [
        {
          "output_type": "stream",
          "text": [
            "total 335076\n",
            "-rw-r--r-- 1 root root 343000283 Apr  5 11:57 graalvm-ce-1.0.0-rc15-linux-amd64.tar.gz\n",
            "drwxr-xr-x 1 root root      4096 Apr 23 11:34 ..\n",
            "-rw-r--r-- 1 root root        17 Apr 23 11:34 README.md\n",
            "-rw-r--r-- 1 root root     45270 Apr 23 11:34 Java_Call_go.ipynb\n",
            "-rw-r--r-- 1 root root       270 Apr 23 11:34 HelloWorld.java\n",
            "-rw-r--r-- 1 root root       652 Apr 23 11:34 HelloWorldGraalVM.java\n",
            "-rw-r--r-- 1 root root       166 Apr 23 11:34 HelloWorld.go\n",
            "-rw-r--r-- 1 root root       259 Apr 23 11:34 HelloWorldCallGO.c\n",
            "-rw-r--r-- 1 root root       240 Apr 23 11:34 HelloWorld.c\n",
            "-rw-r--r-- 1 root root       357 Apr 23 11:34 Headers.java\n",
            "drwxr-xr-x 8 root root      4096 Apr 23 11:34 .git\n",
            "drwxr-xr-x 8 root root      4096 Apr 23 11:34 graalvm-ce-1.0.0-rc15\n",
            "-rw-r--r-- 1 root root       392 Apr 23 11:35 HelloWorld.h\n",
            "-rw-r--r-- 1 root root       580 Apr 23 11:35 HelloWorld.class\n",
            "drwxr-xr-x 4 root root      4096 Apr 23 11:35 .\n",
            "-rwxr-xr-x 1 root root      7928 Apr 23 11:35 libHelloWorld.so\n"
          ],
          "name": "stdout"
        }
      ]
    },
    {
      "metadata": {
        "id": "qr4pJp_QcihM",
        "colab_type": "code",
        "outputId": "f08a1367-5b6e-434a-9fff-7560e1addc3d",
        "colab": {
          "base_uri": "https://localhost:8080/",
          "height": 34
        }
      },
      "cell_type": "code",
      "source": [
        "!java HelloWorld 13245"
      ],
      "execution_count": 16,
      "outputs": [
        {
          "output_type": "stream",
          "text": [
            "heavy work in c 13245\n"
          ],
          "name": "stdout"
        }
      ]
    },
    {
      "metadata": {
        "id": "sV58TJs0Bmgy",
        "colab_type": "code",
        "outputId": "3c06741a-2c08-428e-99d1-3da3a9ce8ac1",
        "colab": {
          "base_uri": "https://localhost:8080/",
          "height": 238
        }
      },
      "cell_type": "code",
      "source": [
        "!cat HelloWorld.go"
      ],
      "execution_count": 17,
      "outputs": [
        {
          "output_type": "stream",
          "text": [
            "package main\n",
            "\n",
            "import \"C\"  \n",
            "import \"fmt\"\n",
            "\n",
            "//export HeavyWorkFromGo\n",
            "func HeavyWorkFromGo(num int) {\n",
            "    fmt.Printf(\"HeavyWork in Go: %d\\n\", num)\n",
            "}\n",
            "\n",
            "func main(){\n",
            "    \n",
            "}\n"
          ],
          "name": "stdout"
        }
      ]
    },
    {
      "metadata": {
        "id": "SjgO2CHLf1kN",
        "colab_type": "code",
        "outputId": "0132b7c9-d176-4497-d890-e20e055f77ea",
        "colab": {
          "base_uri": "https://localhost:8080/",
          "height": 340
        }
      },
      "cell_type": "code",
      "source": [
        "!go build -buildmode=c-shared -o libHelloWorldCallGO.so HelloWorld.go;ls -alrt"
      ],
      "execution_count": 18,
      "outputs": [
        {
          "output_type": "stream",
          "text": [
            "total 337568\n",
            "-rw-r--r-- 1 root root 343000283 Apr  5 11:57 graalvm-ce-1.0.0-rc15-linux-amd64.tar.gz\n",
            "drwxr-xr-x 1 root root      4096 Apr 23 11:34 ..\n",
            "-rw-r--r-- 1 root root        17 Apr 23 11:34 README.md\n",
            "-rw-r--r-- 1 root root     45270 Apr 23 11:34 Java_Call_go.ipynb\n",
            "-rw-r--r-- 1 root root       270 Apr 23 11:34 HelloWorld.java\n",
            "-rw-r--r-- 1 root root       652 Apr 23 11:34 HelloWorldGraalVM.java\n",
            "-rw-r--r-- 1 root root       166 Apr 23 11:34 HelloWorld.go\n",
            "-rw-r--r-- 1 root root       259 Apr 23 11:34 HelloWorldCallGO.c\n",
            "-rw-r--r-- 1 root root       240 Apr 23 11:34 HelloWorld.c\n",
            "-rw-r--r-- 1 root root       357 Apr 23 11:34 Headers.java\n",
            "drwxr-xr-x 8 root root      4096 Apr 23 11:34 .git\n",
            "drwxr-xr-x 8 root root      4096 Apr 23 11:34 graalvm-ce-1.0.0-rc15\n",
            "-rw-r--r-- 1 root root       392 Apr 23 11:35 HelloWorld.h\n",
            "-rw-r--r-- 1 root root       580 Apr 23 11:35 HelloWorld.class\n",
            "-rwxr-xr-x 1 root root      7928 Apr 23 11:35 libHelloWorld.so\n",
            "-rw-r--r-- 1 root root      1521 Apr 23 11:35 libHelloWorldCallGO.h\n",
            "-rw-r--r-- 1 root root   2544704 Apr 23 11:35 libHelloWorldCallGO.so\n",
            "drwxr-xr-x 4 root root      4096 Apr 23 11:35 .\n"
          ],
          "name": "stdout"
        }
      ]
    },
    {
      "metadata": {
        "id": "n2BUyknRCYk0",
        "colab_type": "code",
        "outputId": "3ea1456e-456c-4cdb-a963-7ae6d3fa3328",
        "colab": {
          "base_uri": "https://localhost:8080/",
          "height": 204
        }
      },
      "cell_type": "code",
      "source": [
        "!cat HelloWorldCallGO.c"
      ],
      "execution_count": 19,
      "outputs": [
        {
          "output_type": "stream",
          "text": [
            "#include <jni.h>\n",
            "\n",
            "#include \"HelloWorld.h\"\n",
            "#include <stdio.h>\n",
            "#include \"libHelloWorldCallGO.h\"\n",
            "\n",
            "JNIEXPORT void JNICALL Java_HelloWorld_heavyWork(JNIEnv *env, jobject obj,\n",
            "                                                 jint num)\n",
            "{\n",
            "    HeavyWorkFromGo(num);\n",
            "}\n"
          ],
          "name": "stdout"
        }
      ]
    },
    {
      "metadata": {
        "id": "s-XWIi70DlRA",
        "colab_type": "code",
        "outputId": "80b515a8-88d6-4456-a2f3-a3af955b2459",
        "colab": {
          "base_uri": "https://localhost:8080/",
          "height": 340
        }
      },
      "cell_type": "code",
      "source": [
        "!gcc -o libHelloWorld.so  -I ${GRAALVM}/include/ -I ${GRAALVM}/include/linux  -fpie -shared HelloWorldCallGO.c -L. -lHelloWorldCallGO; ls -alrt"
      ],
      "execution_count": 20,
      "outputs": [
        {
          "output_type": "stream",
          "text": [
            "total 337568\n",
            "-rw-r--r-- 1 root root 343000283 Apr  5 11:57 graalvm-ce-1.0.0-rc15-linux-amd64.tar.gz\n",
            "drwxr-xr-x 1 root root      4096 Apr 23 11:34 ..\n",
            "-rw-r--r-- 1 root root        17 Apr 23 11:34 README.md\n",
            "-rw-r--r-- 1 root root     45270 Apr 23 11:34 Java_Call_go.ipynb\n",
            "-rw-r--r-- 1 root root       270 Apr 23 11:34 HelloWorld.java\n",
            "-rw-r--r-- 1 root root       652 Apr 23 11:34 HelloWorldGraalVM.java\n",
            "-rw-r--r-- 1 root root       166 Apr 23 11:34 HelloWorld.go\n",
            "-rw-r--r-- 1 root root       259 Apr 23 11:34 HelloWorldCallGO.c\n",
            "-rw-r--r-- 1 root root       240 Apr 23 11:34 HelloWorld.c\n",
            "-rw-r--r-- 1 root root       357 Apr 23 11:34 Headers.java\n",
            "drwxr-xr-x 8 root root      4096 Apr 23 11:34 .git\n",
            "drwxr-xr-x 8 root root      4096 Apr 23 11:34 graalvm-ce-1.0.0-rc15\n",
            "-rw-r--r-- 1 root root       392 Apr 23 11:35 HelloWorld.h\n",
            "-rw-r--r-- 1 root root       580 Apr 23 11:35 HelloWorld.class\n",
            "-rw-r--r-- 1 root root      1521 Apr 23 11:35 libHelloWorldCallGO.h\n",
            "-rw-r--r-- 1 root root   2544704 Apr 23 11:35 libHelloWorldCallGO.so\n",
            "drwxr-xr-x 4 root root      4096 Apr 23 11:35 .\n",
            "-rwxr-xr-x 1 root root      7616 Apr 23 11:35 libHelloWorld.so\n"
          ],
          "name": "stdout"
        }
      ]
    },
    {
      "metadata": {
        "id": "N0LZXB5VEWLx",
        "colab_type": "code",
        "outputId": "e3a19240-63e4-47b7-bf01-4522ac709eec",
        "colab": {
          "base_uri": "https://localhost:8080/",
          "height": 34
        }
      },
      "cell_type": "code",
      "source": [
        "!java HelloWorld 1324555555"
      ],
      "execution_count": 21,
      "outputs": [
        {
          "output_type": "stream",
          "text": [
            "HeavyWork in Go: 1324555555\n"
          ],
          "name": "stdout"
        }
      ]
    },
    {
      "metadata": {
        "id": "ZgaQuRESGS7x",
        "colab_type": "code",
        "outputId": "ab4a3f3e-ddff-4f47-ef42-5e654be53bf4",
        "colab": {
          "base_uri": "https://localhost:8080/",
          "height": 34
        }
      },
      "cell_type": "code",
      "source": [
        "!file HelloWorld.class"
      ],
      "execution_count": 22,
      "outputs": [
        {
          "output_type": "stream",
          "text": [
            "HelloWorld.class: compiled Java class data, version 52.0 (Java 1.8)\n"
          ],
          "name": "stdout"
        }
      ]
    },
    {
      "metadata": {
        "id": "sptmljmn_Blt",
        "colab_type": "text"
      },
      "cell_type": "markdown",
      "source": [
        "# GraalVM\n",
        "\n",
        "https://cornerwings.github.io/2018/07/graal-native-methods/\n"
      ]
    },
    {
      "metadata": {
        "id": "cCQwm3hgQNH7",
        "colab_type": "text"
      },
      "cell_type": "markdown",
      "source": [
        "JNI差異、JNI(env、OBJ)、Call Convension\n",
        "Native Image \n",
        "poltgon\n",
        "go buildmode\n",
        "output binary差異\n",
        "sulong llvm bitcode"
      ]
    },
    {
      "metadata": {
        "id": "uXRTuEXoHfVJ",
        "colab_type": "code",
        "outputId": "6bdbfc85-054b-4f29-ff8a-bb057e16b984",
        "colab": {
          "base_uri": "https://localhost:8080/",
          "height": 272
        }
      },
      "cell_type": "code",
      "source": [
        "!cat Headers.java"
      ],
      "execution_count": 23,
      "outputs": [
        {
          "output_type": "stream",
          "text": [
            "import java.io.*;\n",
            "import org.graalvm.polyglot.*;\n",
            "import org.graalvm.nativeimage.*;\n",
            "import java.util.*;\n",
            "\n",
            "import org.graalvm.nativeimage.c.CContext;\n",
            "\n",
            "public class Headers implements CContext.Directives {\n",
            "\n",
            "    @Override\n",
            "    public List<String> getHeaderFiles() {\n",
            "        return Collections.singletonList(\"\\\"/content/go_java/libHelloWorldCallGO.h\\\"\");\n",
            "    }\n",
            "\n",
            "}\n"
          ],
          "name": "stdout"
        }
      ]
    },
    {
      "metadata": {
        "id": "ifbIlGJ-Hehr",
        "colab_type": "code",
        "outputId": "ebd88183-bf14-41c2-c0fa-7eec7eec706d",
        "colab": {
          "base_uri": "https://localhost:8080/",
          "height": 408
        }
      },
      "cell_type": "code",
      "source": [
        "!cat HelloWorldGraalVM.java"
      ],
      "execution_count": 24,
      "outputs": [
        {
          "output_type": "stream",
          "text": [
            "import java.io.*;\n",
            "import org.graalvm.polyglot.*;\n",
            "import org.graalvm.nativeimage.*;\n",
            "import java.util.*;\n",
            "\n",
            "import org.graalvm.nativeimage.c.CContext;\n",
            "import org.graalvm.nativeimage.c.function.CLibrary;\n",
            "import org.graalvm.nativeimage.c.function.CFunction;\n",
            "import org.graalvm.nativeimage.c.function.CFunction.Transition;\n",
            "\n",
            "@CContext(Headers.class)\n",
            "@CLibrary(\"HelloWorldCallGO\")\n",
            "public class HelloWorldGraalVM {\n",
            "\n",
            "    @CFunction(transition = Transition.NO_TRANSITION)\n",
            "    private static native void HeavyWorkFromGo(int num);\n",
            "\n",
            "    public static void main(String[] args) {\n",
            "        final int num = Integer.valueOf(args[0]);\n",
            "        HeavyWorkFromGo(num);\n",
            "\n",
            "    }\n",
            "}\n"
          ],
          "name": "stdout"
        }
      ]
    },
    {
      "metadata": {
        "id": "KZMfCLCMQMDW",
        "colab_type": "code",
        "outputId": "40e6c3bc-f625-464c-bbae-afbc0a8accc4",
        "colab": {
          "base_uri": "https://localhost:8080/",
          "height": 374
        }
      },
      "cell_type": "code",
      "source": [
        "!${GRAALVM}/bin/javac Headers.java HelloWorldGraalVM.java; ls -alrt"
      ],
      "execution_count": 25,
      "outputs": [
        {
          "output_type": "stream",
          "text": [
            "total 337576\n",
            "-rw-r--r-- 1 root root 343000283 Apr  5 11:57 graalvm-ce-1.0.0-rc15-linux-amd64.tar.gz\n",
            "drwxr-xr-x 1 root root      4096 Apr 23 11:34 ..\n",
            "-rw-r--r-- 1 root root        17 Apr 23 11:34 README.md\n",
            "-rw-r--r-- 1 root root     45270 Apr 23 11:34 Java_Call_go.ipynb\n",
            "-rw-r--r-- 1 root root       270 Apr 23 11:34 HelloWorld.java\n",
            "-rw-r--r-- 1 root root       652 Apr 23 11:34 HelloWorldGraalVM.java\n",
            "-rw-r--r-- 1 root root       166 Apr 23 11:34 HelloWorld.go\n",
            "-rw-r--r-- 1 root root       259 Apr 23 11:34 HelloWorldCallGO.c\n",
            "-rw-r--r-- 1 root root       240 Apr 23 11:34 HelloWorld.c\n",
            "-rw-r--r-- 1 root root       357 Apr 23 11:34 Headers.java\n",
            "drwxr-xr-x 8 root root      4096 Apr 23 11:34 .git\n",
            "drwxr-xr-x 8 root root      4096 Apr 23 11:34 graalvm-ce-1.0.0-rc15\n",
            "-rw-r--r-- 1 root root       392 Apr 23 11:35 HelloWorld.h\n",
            "-rw-r--r-- 1 root root       580 Apr 23 11:35 HelloWorld.class\n",
            "-rw-r--r-- 1 root root      1521 Apr 23 11:35 libHelloWorldCallGO.h\n",
            "-rw-r--r-- 1 root root   2544704 Apr 23 11:35 libHelloWorldCallGO.so\n",
            "-rwxr-xr-x 1 root root      7616 Apr 23 11:35 libHelloWorld.so\n",
            "-rw-r--r-- 1 root root       606 Apr 23 11:36 Headers.class\n",
            "-rw-r--r-- 1 root root       948 Apr 23 11:36 HelloWorldGraalVM.class\n",
            "drwxr-xr-x 4 root root      4096 Apr 23 11:36 .\n"
          ],
          "name": "stdout"
        }
      ]
    },
    {
      "metadata": {
        "id": "2ZhFIZuyd39h",
        "colab_type": "code",
        "outputId": "ff25e7a7-4b65-4168-fd31-a2dfd24b81f5",
        "colab": {
          "base_uri": "https://localhost:8080/",
          "height": 663
        }
      },
      "cell_type": "code",
      "source": [
        "!${GRAALVM}/bin/native-image -H:+ReportExceptionStackTraces -cp . -Djava.library.path=. -H:CLibraryPath=. HelloWorldGraalVM; ls -alrt"
      ],
      "execution_count": 26,
      "outputs": [
        {
          "output_type": "stream",
          "text": [
            "Build on Server(pid: 1522, port: 40105)*\n",
            "[helloworldgraalvm:1522]    classlist:   3,335.32 ms\n",
            "[helloworldgraalvm:1522]        (cap):   2,067.10 ms\n",
            "[helloworldgraalvm:1522]        setup:   4,298.68 ms\n",
            "[helloworldgraalvm:1522]   (typeflow):   5,716.32 ms\n",
            "[helloworldgraalvm:1522]    (objects):   1,564.16 ms\n",
            "[helloworldgraalvm:1522]   (features):     310.37 ms\n",
            "[helloworldgraalvm:1522]     analysis:   7,732.69 ms\n",
            "[helloworldgraalvm:1522]     universe:     389.00 ms\n",
            "[helloworldgraalvm:1522]      (parse):   1,036.08 ms\n",
            "[helloworldgraalvm:1522]     (inline):   2,554.07 ms\n",
            "[helloworldgraalvm:1522]    (compile):  13,300.11 ms\n",
            "[helloworldgraalvm:1522]      compile:  17,384.83 ms\n",
            "[helloworldgraalvm:1522]        image:     681.37 ms\n",
            "[helloworldgraalvm:1522]        write:     173.39 ms\n",
            "[helloworldgraalvm:1522]      [total]:  34,215.05 ms\n",
            "total 340040\n",
            "-rw-r--r-- 1 root root 343000283 Apr  5 11:57 graalvm-ce-1.0.0-rc15-linux-amd64.tar.gz\n",
            "drwxr-xr-x 1 root root      4096 Apr 23 11:34 ..\n",
            "-rw-r--r-- 1 root root        17 Apr 23 11:34 README.md\n",
            "-rw-r--r-- 1 root root     45270 Apr 23 11:34 Java_Call_go.ipynb\n",
            "-rw-r--r-- 1 root root       270 Apr 23 11:34 HelloWorld.java\n",
            "-rw-r--r-- 1 root root       652 Apr 23 11:34 HelloWorldGraalVM.java\n",
            "-rw-r--r-- 1 root root       166 Apr 23 11:34 HelloWorld.go\n",
            "-rw-r--r-- 1 root root       259 Apr 23 11:34 HelloWorldCallGO.c\n",
            "-rw-r--r-- 1 root root       240 Apr 23 11:34 HelloWorld.c\n",
            "-rw-r--r-- 1 root root       357 Apr 23 11:34 Headers.java\n",
            "drwxr-xr-x 8 root root      4096 Apr 23 11:34 .git\n",
            "drwxr-xr-x 8 root root      4096 Apr 23 11:34 graalvm-ce-1.0.0-rc15\n",
            "-rw-r--r-- 1 root root       392 Apr 23 11:35 HelloWorld.h\n",
            "-rw-r--r-- 1 root root       580 Apr 23 11:35 HelloWorld.class\n",
            "-rw-r--r-- 1 root root      1521 Apr 23 11:35 libHelloWorldCallGO.h\n",
            "-rw-r--r-- 1 root root   2544704 Apr 23 11:35 libHelloWorldCallGO.so\n",
            "-rwxr-xr-x 1 root root      7616 Apr 23 11:35 libHelloWorld.so\n",
            "-rw-r--r-- 1 root root       606 Apr 23 11:36 Headers.class\n",
            "-rw-r--r-- 1 root root       948 Apr 23 11:36 HelloWorldGraalVM.class\n",
            "drwxr-xr-x 4 root root      4096 Apr 23 11:36 .\n",
            "-rwxr-xr-x 1 root root   2521248 Apr 23 11:36 helloworldgraalvm\n"
          ],
          "name": "stdout"
        }
      ]
    },
    {
      "metadata": {
        "id": "XCcAef8xBxge",
        "colab_type": "code",
        "outputId": "31377b45-94db-4386-f7c6-381b1aac6cb7",
        "colab": {
          "base_uri": "https://localhost:8080/",
          "height": 34
        }
      },
      "cell_type": "code",
      "source": [
        "! ./helloworldgraalvm 123445555"
      ],
      "execution_count": 27,
      "outputs": [
        {
          "output_type": "stream",
          "text": [
            "HeavyWork in Go: 123445555\n"
          ],
          "name": "stdout"
        }
      ]
    },
    {
      "metadata": {
        "id": "T3C4MBVEFVjH",
        "colab_type": "code",
        "outputId": "a78f7996-7426-470a-dc33-d45cbf13cc07",
        "colab": {
          "base_uri": "https://localhost:8080/",
          "height": 54
        }
      },
      "cell_type": "code",
      "source": [
        "!file helloworldgraalvm"
      ],
      "execution_count": 28,
      "outputs": [
        {
          "output_type": "stream",
          "text": [
            "helloworldgraalvm: ELF 64-bit LSB shared object, x86-64, version 1 (SYSV), dynamically linked, interpreter /lib64/l, for GNU/Linux 3.2.0, BuildID[sha1]=9cbf15ed688539fc39466544a497d245e3477897, with debug_info, not stripped\n"
          ],
          "name": "stdout"
        }
      ]
    },
    {
      "metadata": {
        "id": "TDItFcNiJZWE",
        "colab_type": "code",
        "outputId": "63644d61-edf2-4ebd-9cd9-89dc31ed7cff",
        "colab": {
          "base_uri": "https://localhost:8080/",
          "height": 34
        }
      },
      "cell_type": "code",
      "source": [
        "!ls -lh helloworldgraalvm"
      ],
      "execution_count": 29,
      "outputs": [
        {
          "output_type": "stream",
          "text": [
            "-rwxr-xr-x 1 root root 2.5M Apr 23 11:36 helloworldgraalvm\n"
          ],
          "name": "stdout"
        }
      ]
    }
  ]
}